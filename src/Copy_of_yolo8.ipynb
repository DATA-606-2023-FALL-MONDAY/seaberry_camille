{
  "cells": [
    {
      "cell_type": "code",
      "execution_count": 1,
      "metadata": {
        "colab": {
          "base_uri": "https://localhost:8080/"
        },
        "id": "bykw5DM4-KMo",
        "outputId": "2eb438f7-54f9-4069-839d-5fd6854d9485"
      },
      "outputs": [
        {
          "name": "stderr",
          "output_type": "stream",
          "text": [
            "WARNING ⚠️ 'ultralytics.yolo.v8' is deprecated since '8.0.136' and will be removed in '8.1.0'. Please use 'ultralytics.models.yolo' instead.\n",
            "WARNING ⚠️ 'ultralytics.yolo.utils' is deprecated since '8.0.136' and will be removed in '8.1.0'. Please use 'ultralytics.utils' instead.\n",
            "Note this warning may be related to loading older models. You can update your model to current structure with:\n",
            "    import torch\n",
            "    ckpt = torch.load(\"model.pt\")  # applies to both official and custom models\n",
            "    torch.save(ckpt, \"updated-model.pt\")\n",
            "\n"
          ]
        }
      ],
      "source": [
        "# from google colab example notebooks\n",
        "# from google.colab import drive, userdata\n",
        "# drive.mount('/gdrive')\n",
        "\n",
        "import os\n",
        "from roboflow import Roboflow\n",
        "from pathlib import Path\n",
        "from ultralytics import YOLO, RTDETR\n",
        "from pprint import pprint\n",
        "from sahi import AutoDetectionModel\n",
        "from sahi.predict import get_prediction, get_sliced_prediction, predict\n",
        "import wandb\n",
        "from wandb.integration.ultralytics import add_wandb_callback\n",
        "from pathlib import Path\n",
        "from dotenv import load_dotenv\n",
        "\n",
        "load_dotenv()\n",
        "\n",
        "PROJECT_DIR = Path('/home/camille/code/capstone')\n",
        "os.chdir(PROJECT_DIR)\n",
        "# %cd /gdrive/MyDrive/capstone\n",
        "# %cd /gdrive/MyDrive/capstone\n",
        "# %ls"
      ]
    },
    {
      "cell_type": "code",
      "execution_count": 2,
      "metadata": {
        "colab": {
          "base_uri": "https://localhost:8080/"
        },
        "id": "USrd20f6Csuq",
        "outputId": "9651ae07-a8c0-4e0c-8a4a-4e847cb2a576"
      },
      "outputs": [
        {
          "name": "stderr",
          "output_type": "stream",
          "text": [
            "11/14/2023 01:02:25 - ERROR - wandb.jupyter -   Failed to detect the name of this notebook, you can set it manually with the WANDB_NOTEBOOK_NAME environment variable to enable code saving.\n",
            "\u001b[34m\u001b[1mwandb\u001b[0m: Currently logged in as: \u001b[33mcseaberry\u001b[0m (\u001b[33mseaberry\u001b[0m). Use \u001b[1m`wandb login --relogin`\u001b[0m to force relogin\n",
            "\u001b[34m\u001b[1mwandb\u001b[0m: \u001b[33mWARNING\u001b[0m If you're specifying your api key in code, ensure this code is not shared publicly.\n",
            "\u001b[34m\u001b[1mwandb\u001b[0m: \u001b[33mWARNING\u001b[0m Consider setting the WANDB_API_KEY environment variable, or running `wandb login` from the command line.\n",
            "\u001b[34m\u001b[1mwandb\u001b[0m: Appending key for api.wandb.ai to your netrc file: /home/camille/.netrc\n"
          ]
        },
        {
          "data": {
            "text/plain": [
              "True"
            ]
          },
          "execution_count": 2,
          "metadata": {},
          "output_type": "execute_result"
        }
      ],
      "source": [
        "wandb.login(key = os.getenv('WANDB_KEY'))"
      ]
    },
    {
      "cell_type": "code",
      "execution_count": 3,
      "metadata": {
        "colab": {
          "base_uri": "https://localhost:8080/"
        },
        "id": "iYYPxIylossV",
        "outputId": "ea6cce98-e542-4467-dbbf-fff939fd2737"
      },
      "outputs": [
        {
          "data": {
            "text/plain": [
              "{'settings_version': '0.0.4',\n",
              " 'datasets_dir': '/home/camille/code/capstone/data',\n",
              " 'weights_dir': 'weights',\n",
              " 'runs_dir': 'runs',\n",
              " 'uuid': '82876d9ba7845817dc4101ed78893f7c8b224fb5021052403613ed862296ada3',\n",
              " 'sync': True,\n",
              " 'api_key': '',\n",
              " 'clearml': True,\n",
              " 'comet': True,\n",
              " 'dvc': True,\n",
              " 'hub': True,\n",
              " 'mlflow': True,\n",
              " 'neptune': True,\n",
              " 'raytune': True,\n",
              " 'tensorboard': True,\n",
              " 'wandb': True}"
            ]
          },
          "execution_count": 3,
          "metadata": {},
          "output_type": "execute_result"
        }
      ],
      "source": [
        "from ultralytics import settings as ul_settings\n",
        "# ul_settings.update({ 'datasets_dir': '/gdrive/MyDrive/capstone/datasets' })\n",
        "ul_settings"
      ]
    },
    {
      "cell_type": "code",
      "execution_count": 4,
      "metadata": {
        "colab": {
          "base_uri": "https://localhost:8080/"
        },
        "id": "P0mFezLPECaO",
        "outputId": "99fc2bc0-0def-40bb-caca-41bd0eb5901d"
      },
      "outputs": [
        {
          "name": "stdout",
          "output_type": "stream",
          "text": [
            "loading Roboflow workspace...\n",
            "loading Roboflow project...\n",
            "Dependency ultralytics==8.0.134 is required but found version=8.0.186, to fix: `pip install ultralytics==8.0.134`\n",
            "Dependency ultralytics==8.0.134 is required but found version=8.0.186, to fix: `pip install ultralytics==8.0.134`\n"
          ]
        }
      ],
      "source": [
        "def download_rf_imgs(proj, v, data_dir, format, overwrite = False):\n",
        "  dataset = proj.version(v).download(model_format = format, location = data_dir, overwrite = overwrite)\n",
        "  return dataset\n",
        "\n",
        "rf = Roboflow(api_key = os.getenv('ROBOFLOW_KEY'))\n",
        "proj = rf.workspace('seaberry').project('cap-detect')\n",
        "dataset_full = download_rf_imgs(proj, v = 2, \n",
        "                                data_dir = str(PROJECT_DIR / 'data/cams_full'), \n",
        "                                format = 'yolov8', \n",
        "                                overwrite = False) # main full images\n",
        "dataset_tile = download_rf_imgs(proj, v = 3, \n",
        "                                data_dir = str(PROJECT_DIR / 'data/cams_tile'), \n",
        "                                format = 'yolov8', \n",
        "                                overwrite = False) # tiled images"
      ]
    },
    {
      "cell_type": "code",
      "execution_count": 5,
      "metadata": {
        "id": "MNpY1nc99oWH"
      },
      "outputs": [],
      "source": [
        "import yaml\n",
        "from pathlib import Path\n",
        "\n",
        "def fix_data_yaml(dir):\n",
        "    '''\n",
        "    Paths to image directories have been inconsistent. This gives them consistent paths\n",
        "    such as train/images, rather than longer relative ones.\n",
        "    '''\n",
        "    dir = Path(dir)\n",
        "    with open(dir / 'data.yaml', 'r') as f:\n",
        "        data = yaml.safe_load(f)\n",
        "    for split in ['train', 'val', 'test']:\n",
        "        long_dir = Path(data[split])\n",
        "        data[split] = long_dir.parent.name + '/' + long_dir.name\n",
        "    with open(dir / 'data.yaml', 'w') as f:\n",
        "        yaml.dump(data, f)\n",
        "\n",
        "for dset in [dataset_full, dataset_tile]:\n",
        "    fix_data_yaml(dset.location)"
      ]
    },
    {
      "cell_type": "code",
      "execution_count": 6,
      "metadata": {
        "colab": {
          "base_uri": "https://localhost:8080/"
        },
        "id": "cKfeKKSzzH5w",
        "outputId": "5a6093ea-d42f-41c0-9e59-05ea307509c9"
      },
      "outputs": [
        {
          "name": "stdout",
          "output_type": "stream",
          "text": [
            "names:\n",
            "- surveillance\n",
            "nc: 1\n",
            "roboflow:\n",
            "  license: CC BY 4.0\n",
            "  project: cap-detect\n",
            "  url: https://universe.roboflow.com/seaberry/cap-detect/dataset/2\n",
            "  version: 2\n",
            "  workspace: seaberry\n",
            "test: test/images\n",
            "train: train/images\n",
            "val: valid/images\n",
            "\n",
            "names:\n",
            "- surveillance\n",
            "nc: 1\n",
            "roboflow:\n",
            "  license: CC BY 4.0\n",
            "  project: cap-detect\n",
            "  url: https://universe.roboflow.com/seaberry/cap-detect/dataset/3\n",
            "  version: 3\n",
            "  workspace: seaberry\n",
            "test: test/images\n",
            "train: train/images\n",
            "val: valid/images\n"
          ]
        }
      ],
      "source": [
        "%cat data/cams_full/data.yaml\n",
        "!echo \"\"\n",
        "%cat data/cams_tile/data.yaml"
      ]
    },
    {
      "cell_type": "code",
      "execution_count": 7,
      "metadata": {
        "colab": {
          "base_uri": "https://localhost:8080/"
        },
        "id": "0kkm_BovJ9dC",
        "outputId": "b2af2487-ff50-4510-c559-cb5dec754b9e"
      },
      "outputs": [
        {
          "name": "stdout",
          "output_type": "stream",
          "text": [
            "7794\n"
          ]
        }
      ],
      "source": [
        "%ls -1 data/cams_tile/train/images | wc -l"
      ]
    },
    {
      "cell_type": "code",
      "execution_count": 8,
      "metadata": {
        "id": "NbclbRs3y8Hi"
      },
      "outputs": [],
      "source": [
        "params = {}\n",
        "yolo = YOLO('yolov8s.pt')\n",
        "detr = RTDETR('rtdetr-l.pt')\n",
        "params['yolo_full'] = { 'dataset': dataset_full, 'model': yolo }\n",
        "params['detr_full'] = { 'dataset': dataset_full, 'model': detr }\n",
        "# params['yolo_tile'] = { 'dataset': dataset_tile, 'model': yolo }\n",
        "# params['detr_tile'] = { 'dataset': dataset_tile, 'model': detr }\n",
        "\n",
        "def model_with_wb(\n",
        "    id,\n",
        "    model,\n",
        "    dataset,\n",
        "    project = 'capstone',\n",
        "    imgsz = 640,\n",
        "    patience = 10,\n",
        "    epochs = 5,\n",
        "    batch = 16,\n",
        "    exist_ok = True,\n",
        "    **kwargs\n",
        "):\n",
        "    data_path = f'{dataset.location}/data.yaml'\n",
        "    with wandb.init(project = project, name = id) as run:\n",
        "        model.train(data = data_path,\n",
        "                    imgsz = imgsz,\n",
        "                    patience = patience,\n",
        "                    epochs = epochs,\n",
        "                    batch = batch,\n",
        "                    exist_ok = exist_ok,\n",
        "                    single_cls = True,\n",
        "                    name = f'{id}_train',\n",
        "                    **kwargs)\n",
        "        model.val()"
      ]
    },
    {
      "cell_type": "code",
      "execution_count": 9,
      "metadata": {
        "colab": {
          "base_uri": "https://localhost:8080/",
          "height": 1000,
          "referenced_widgets": [
            "6071e5c156eb40e9bb89ae8a070ca653",
            "1ef730725e5b43b3ac7e32702b4da013",
            "aa490d7b05c34d93970a10b1215ebed2",
            "2195585d849a461a8170e4afc6c02ad4",
            "70db618ea1bd4e53a6ff070c2c166b9e",
            "ca8854a4ca3e477bb338ee2ada0e116b",
            "39900a39418a483ba47d47c402d1e541",
            "cc38530b46df4ecd9e03bf4f9902a2f5"
          ]
        },
        "id": "8hCj03124UFl",
        "outputId": "eae7f080-a465-439e-9a4f-219ab6992c54"
      },
      "outputs": [
        {
          "data": {
            "text/html": [
              "wandb version 0.16.0 is available!  To upgrade, please run:\n",
              " $ pip install wandb --upgrade"
            ],
            "text/plain": [
              "<IPython.core.display.HTML object>"
            ]
          },
          "metadata": {},
          "output_type": "display_data"
        },
        {
          "data": {
            "text/html": [
              "Tracking run with wandb version 0.15.12"
            ],
            "text/plain": [
              "<IPython.core.display.HTML object>"
            ]
          },
          "metadata": {},
          "output_type": "display_data"
        },
        {
          "data": {
            "text/html": [
              "Run data is saved locally in <code>/home/camille/code/capstone/wandb/run-20231114_010257-uozzwnbj</code>"
            ],
            "text/plain": [
              "<IPython.core.display.HTML object>"
            ]
          },
          "metadata": {},
          "output_type": "display_data"
        },
        {
          "data": {
            "text/html": [
              "Syncing run <strong><a href='https://wandb.ai/seaberry/capstone/runs/uozzwnbj' target=\"_blank\">yolo_full</a></strong> to <a href='https://wandb.ai/seaberry/capstone' target=\"_blank\">Weights & Biases</a> (<a href='https://wandb.me/run' target=\"_blank\">docs</a>)<br/>"
            ],
            "text/plain": [
              "<IPython.core.display.HTML object>"
            ]
          },
          "metadata": {},
          "output_type": "display_data"
        },
        {
          "data": {
            "text/html": [
              " View project at <a href='https://wandb.ai/seaberry/capstone' target=\"_blank\">https://wandb.ai/seaberry/capstone</a>"
            ],
            "text/plain": [
              "<IPython.core.display.HTML object>"
            ]
          },
          "metadata": {},
          "output_type": "display_data"
        },
        {
          "data": {
            "text/html": [
              " View run at <a href='https://wandb.ai/seaberry/capstone/runs/uozzwnbj' target=\"_blank\">https://wandb.ai/seaberry/capstone/runs/uozzwnbj</a>"
            ],
            "text/plain": [
              "<IPython.core.display.HTML object>"
            ]
          },
          "metadata": {},
          "output_type": "display_data"
        },
        {
          "name": "stderr",
          "output_type": "stream",
          "text": [
            "New https://pypi.org/project/ultralytics/8.0.209 available 😃 Update with 'pip install -U ultralytics'\n",
            "Ultralytics YOLOv8.0.186 🚀 Python-3.11.5 torch-2.1.0 CUDA:0 (NVIDIA T550 Laptop GPU, 3906MiB)\n",
            "\u001b[34m\u001b[1mengine/trainer: \u001b[0mtask=detect, mode=train, model=yolov8s.pt, data=/home/camille/code/capstone/data/cams_full/data.yaml, epochs=5, patience=10, batch=-1, imgsz=640, save=False, save_period=-1, cache=False, device=None, workers=8, project=None, name=yolo_full_train, exist_ok=True, pretrained=True, optimizer=auto, verbose=True, seed=0, deterministic=True, single_cls=True, rect=False, cos_lr=False, close_mosaic=10, resume=False, amp=True, fraction=1.0, profile=False, freeze=20, overlap_mask=True, mask_ratio=4, dropout=0.0, val=True, split=val, save_json=False, save_hybrid=False, conf=None, iou=0.7, max_det=300, half=False, dnn=False, plots=True, source=None, show=False, save_txt=False, save_conf=False, save_crop=False, show_labels=True, show_conf=True, vid_stride=1, stream_buffer=False, line_width=None, visualize=False, augment=False, agnostic_nms=False, classes=None, retina_masks=False, boxes=True, format=torchscript, keras=False, optimize=False, int8=False, dynamic=False, simplify=False, opset=None, workspace=4, nms=False, lr0=0.01, lrf=0.01, momentum=0.937, weight_decay=0.0005, warmup_epochs=3.0, warmup_momentum=0.8, warmup_bias_lr=0.1, box=7.5, cls=0.5, dfl=1.5, pose=12.0, kobj=1.0, label_smoothing=0.0, nbs=64, hsv_h=0.015, hsv_s=0.7, hsv_v=0.4, degrees=0.0, translate=0.1, scale=0.5, shear=0.0, perspective=0.0, flipud=0.0, fliplr=0.5, mosaic=1.0, mixup=0.0, copy_paste=0.0, cfg=None, tracker=botsort.yaml, save_dir=runs/detect/yolo_full_train\n",
            "Overriding model.yaml nc=80 with nc=1\n",
            "\n",
            "                   from  n    params  module                                       arguments                     \n",
            "  0                  -1  1       928  ultralytics.nn.modules.conv.Conv             [3, 32, 3, 2]                 \n",
            "  1                  -1  1     18560  ultralytics.nn.modules.conv.Conv             [32, 64, 3, 2]                \n",
            "  2                  -1  1     29056  ultralytics.nn.modules.block.C2f             [64, 64, 1, True]             \n",
            "  3                  -1  1     73984  ultralytics.nn.modules.conv.Conv             [64, 128, 3, 2]               \n",
            "  4                  -1  2    197632  ultralytics.nn.modules.block.C2f             [128, 128, 2, True]           \n",
            "  5                  -1  1    295424  ultralytics.nn.modules.conv.Conv             [128, 256, 3, 2]              \n",
            "  6                  -1  2    788480  ultralytics.nn.modules.block.C2f             [256, 256, 2, True]           \n",
            "  7                  -1  1   1180672  ultralytics.nn.modules.conv.Conv             [256, 512, 3, 2]              \n",
            "  8                  -1  1   1838080  ultralytics.nn.modules.block.C2f             [512, 512, 1, True]           \n",
            "  9                  -1  1    656896  ultralytics.nn.modules.block.SPPF            [512, 512, 5]                 \n",
            " 10                  -1  1         0  torch.nn.modules.upsampling.Upsample         [None, 2, 'nearest']          \n",
            " 11             [-1, 6]  1         0  ultralytics.nn.modules.conv.Concat           [1]                           \n",
            " 12                  -1  1    591360  ultralytics.nn.modules.block.C2f             [768, 256, 1]                 \n",
            " 13                  -1  1         0  torch.nn.modules.upsampling.Upsample         [None, 2, 'nearest']          \n",
            " 14             [-1, 4]  1         0  ultralytics.nn.modules.conv.Concat           [1]                           \n",
            " 15                  -1  1    148224  ultralytics.nn.modules.block.C2f             [384, 128, 1]                 \n",
            " 16                  -1  1    147712  ultralytics.nn.modules.conv.Conv             [128, 128, 3, 2]              \n",
            " 17            [-1, 12]  1         0  ultralytics.nn.modules.conv.Concat           [1]                           \n",
            " 18                  -1  1    493056  ultralytics.nn.modules.block.C2f             [384, 256, 1]                 \n",
            " 19                  -1  1    590336  ultralytics.nn.modules.conv.Conv             [256, 256, 3, 2]              \n",
            " 20             [-1, 9]  1         0  ultralytics.nn.modules.conv.Concat           [1]                           \n",
            " 21                  -1  1   1969152  ultralytics.nn.modules.block.C2f             [768, 512, 1]                 \n",
            " 22        [15, 18, 21]  1   2116435  ultralytics.nn.modules.head.Detect           [1, [128, 256, 512]]          \n",
            "Model summary: 225 layers, 11135987 parameters, 11135971 gradients, 28.6 GFLOPs\n",
            "\n",
            "Transferred 349/355 items from pretrained weights\n",
            "\u001b[34m\u001b[1mTensorBoard: \u001b[0mStart with 'tensorboard --logdir runs/detect/yolo_full_train', view at http://localhost:6006/\n",
            "Freezing layer 'model.0.conv.weight'\n",
            "Freezing layer 'model.0.bn.weight'\n",
            "Freezing layer 'model.0.bn.bias'\n",
            "Freezing layer 'model.1.conv.weight'\n",
            "Freezing layer 'model.1.bn.weight'\n",
            "Freezing layer 'model.1.bn.bias'\n",
            "Freezing layer 'model.2.cv1.conv.weight'\n",
            "Freezing layer 'model.2.cv1.bn.weight'\n",
            "Freezing layer 'model.2.cv1.bn.bias'\n",
            "Freezing layer 'model.2.cv2.conv.weight'\n",
            "Freezing layer 'model.2.cv2.bn.weight'\n",
            "Freezing layer 'model.2.cv2.bn.bias'\n",
            "Freezing layer 'model.2.m.0.cv1.conv.weight'\n",
            "Freezing layer 'model.2.m.0.cv1.bn.weight'\n",
            "Freezing layer 'model.2.m.0.cv1.bn.bias'\n",
            "Freezing layer 'model.2.m.0.cv2.conv.weight'\n",
            "Freezing layer 'model.2.m.0.cv2.bn.weight'\n",
            "Freezing layer 'model.2.m.0.cv2.bn.bias'\n",
            "Freezing layer 'model.3.conv.weight'\n",
            "Freezing layer 'model.3.bn.weight'\n",
            "Freezing layer 'model.3.bn.bias'\n",
            "Freezing layer 'model.4.cv1.conv.weight'\n",
            "Freezing layer 'model.4.cv1.bn.weight'\n",
            "Freezing layer 'model.4.cv1.bn.bias'\n",
            "Freezing layer 'model.4.cv2.conv.weight'\n",
            "Freezing layer 'model.4.cv2.bn.weight'\n",
            "Freezing layer 'model.4.cv2.bn.bias'\n",
            "Freezing layer 'model.4.m.0.cv1.conv.weight'\n",
            "Freezing layer 'model.4.m.0.cv1.bn.weight'\n",
            "Freezing layer 'model.4.m.0.cv1.bn.bias'\n",
            "Freezing layer 'model.4.m.0.cv2.conv.weight'\n",
            "Freezing layer 'model.4.m.0.cv2.bn.weight'\n",
            "Freezing layer 'model.4.m.0.cv2.bn.bias'\n",
            "Freezing layer 'model.4.m.1.cv1.conv.weight'\n",
            "Freezing layer 'model.4.m.1.cv1.bn.weight'\n",
            "Freezing layer 'model.4.m.1.cv1.bn.bias'\n",
            "Freezing layer 'model.4.m.1.cv2.conv.weight'\n",
            "Freezing layer 'model.4.m.1.cv2.bn.weight'\n",
            "Freezing layer 'model.4.m.1.cv2.bn.bias'\n",
            "Freezing layer 'model.5.conv.weight'\n",
            "Freezing layer 'model.5.bn.weight'\n",
            "Freezing layer 'model.5.bn.bias'\n",
            "Freezing layer 'model.6.cv1.conv.weight'\n",
            "Freezing layer 'model.6.cv1.bn.weight'\n",
            "Freezing layer 'model.6.cv1.bn.bias'\n",
            "Freezing layer 'model.6.cv2.conv.weight'\n",
            "Freezing layer 'model.6.cv2.bn.weight'\n",
            "Freezing layer 'model.6.cv2.bn.bias'\n",
            "Freezing layer 'model.6.m.0.cv1.conv.weight'\n",
            "Freezing layer 'model.6.m.0.cv1.bn.weight'\n",
            "Freezing layer 'model.6.m.0.cv1.bn.bias'\n",
            "Freezing layer 'model.6.m.0.cv2.conv.weight'\n",
            "Freezing layer 'model.6.m.0.cv2.bn.weight'\n",
            "Freezing layer 'model.6.m.0.cv2.bn.bias'\n",
            "Freezing layer 'model.6.m.1.cv1.conv.weight'\n",
            "Freezing layer 'model.6.m.1.cv1.bn.weight'\n",
            "Freezing layer 'model.6.m.1.cv1.bn.bias'\n",
            "Freezing layer 'model.6.m.1.cv2.conv.weight'\n",
            "Freezing layer 'model.6.m.1.cv2.bn.weight'\n",
            "Freezing layer 'model.6.m.1.cv2.bn.bias'\n",
            "Freezing layer 'model.7.conv.weight'\n",
            "Freezing layer 'model.7.bn.weight'\n",
            "Freezing layer 'model.7.bn.bias'\n",
            "Freezing layer 'model.8.cv1.conv.weight'\n",
            "Freezing layer 'model.8.cv1.bn.weight'\n",
            "Freezing layer 'model.8.cv1.bn.bias'\n",
            "Freezing layer 'model.8.cv2.conv.weight'\n",
            "Freezing layer 'model.8.cv2.bn.weight'\n",
            "Freezing layer 'model.8.cv2.bn.bias'\n",
            "Freezing layer 'model.8.m.0.cv1.conv.weight'\n",
            "Freezing layer 'model.8.m.0.cv1.bn.weight'\n",
            "Freezing layer 'model.8.m.0.cv1.bn.bias'\n",
            "Freezing layer 'model.8.m.0.cv2.conv.weight'\n",
            "Freezing layer 'model.8.m.0.cv2.bn.weight'\n",
            "Freezing layer 'model.8.m.0.cv2.bn.bias'\n",
            "Freezing layer 'model.9.cv1.conv.weight'\n",
            "Freezing layer 'model.9.cv1.bn.weight'\n",
            "Freezing layer 'model.9.cv1.bn.bias'\n",
            "Freezing layer 'model.9.cv2.conv.weight'\n",
            "Freezing layer 'model.9.cv2.bn.weight'\n",
            "Freezing layer 'model.9.cv2.bn.bias'\n",
            "Freezing layer 'model.12.cv1.conv.weight'\n",
            "Freezing layer 'model.12.cv1.bn.weight'\n",
            "Freezing layer 'model.12.cv1.bn.bias'\n",
            "Freezing layer 'model.12.cv2.conv.weight'\n",
            "Freezing layer 'model.12.cv2.bn.weight'\n",
            "Freezing layer 'model.12.cv2.bn.bias'\n",
            "Freezing layer 'model.12.m.0.cv1.conv.weight'\n",
            "Freezing layer 'model.12.m.0.cv1.bn.weight'\n",
            "Freezing layer 'model.12.m.0.cv1.bn.bias'\n",
            "Freezing layer 'model.12.m.0.cv2.conv.weight'\n",
            "Freezing layer 'model.12.m.0.cv2.bn.weight'\n",
            "Freezing layer 'model.12.m.0.cv2.bn.bias'\n",
            "Freezing layer 'model.15.cv1.conv.weight'\n",
            "Freezing layer 'model.15.cv1.bn.weight'\n",
            "Freezing layer 'model.15.cv1.bn.bias'\n",
            "Freezing layer 'model.15.cv2.conv.weight'\n",
            "Freezing layer 'model.15.cv2.bn.weight'\n",
            "Freezing layer 'model.15.cv2.bn.bias'\n",
            "Freezing layer 'model.15.m.0.cv1.conv.weight'\n",
            "Freezing layer 'model.15.m.0.cv1.bn.weight'\n",
            "Freezing layer 'model.15.m.0.cv1.bn.bias'\n",
            "Freezing layer 'model.15.m.0.cv2.conv.weight'\n",
            "Freezing layer 'model.15.m.0.cv2.bn.weight'\n",
            "Freezing layer 'model.15.m.0.cv2.bn.bias'\n",
            "Freezing layer 'model.16.conv.weight'\n",
            "Freezing layer 'model.16.bn.weight'\n",
            "Freezing layer 'model.16.bn.bias'\n",
            "Freezing layer 'model.18.cv1.conv.weight'\n",
            "Freezing layer 'model.18.cv1.bn.weight'\n",
            "Freezing layer 'model.18.cv1.bn.bias'\n",
            "Freezing layer 'model.18.cv2.conv.weight'\n",
            "Freezing layer 'model.18.cv2.bn.weight'\n",
            "Freezing layer 'model.18.cv2.bn.bias'\n",
            "Freezing layer 'model.18.m.0.cv1.conv.weight'\n",
            "Freezing layer 'model.18.m.0.cv1.bn.weight'\n",
            "Freezing layer 'model.18.m.0.cv1.bn.bias'\n",
            "Freezing layer 'model.18.m.0.cv2.conv.weight'\n",
            "Freezing layer 'model.18.m.0.cv2.bn.weight'\n",
            "Freezing layer 'model.18.m.0.cv2.bn.bias'\n",
            "Freezing layer 'model.19.conv.weight'\n",
            "Freezing layer 'model.19.bn.weight'\n",
            "Freezing layer 'model.19.bn.bias'\n",
            "Freezing layer 'model.22.dfl.conv.weight'\n",
            "\u001b[34m\u001b[1mAMP: \u001b[0mrunning Automatic Mixed Precision (AMP) checks with YOLOv8n...\n",
            "WARNING ⚠️ NMS time limit 0.550s exceeded\n",
            "\u001b[34m\u001b[1mAMP: \u001b[0mchecks passed ✅\n",
            "\u001b[34m\u001b[1mAutoBatch: \u001b[0mComputing optimal batch size for imgsz=640\n",
            "\u001b[34m\u001b[1mAutoBatch: \u001b[0mCUDA:0 (NVIDIA T550 Laptop GPU) 3.81G total, 0.26G reserved, 0.13G allocated, 3.43G free\n",
            "      Params      GFLOPs  GPU_mem (GB)  forward (ms) backward (ms)                   input                  output\n",
            "    11135987       28.65         0.298         75.08         49.05        (1, 3, 640, 640)                    list\n",
            "    11135987       57.29         0.300         125.8         38.77        (2, 3, 640, 640)                    list\n",
            "    11135987       114.6         0.336         240.6         51.45        (4, 3, 640, 640)                    list\n",
            "    11135987       229.2         0.566         453.9         80.75        (8, 3, 640, 640)                    list\n",
            "    11135987       458.4         1.005         881.4         147.1       (16, 3, 640, 640)                    list\n",
            "\u001b[34m\u001b[1mAutoBatch: \u001b[0mUsing batch-size 37 for CUDA:0 2.40G/3.81G (63%) ✅\n",
            "\u001b[34m\u001b[1mtrain: \u001b[0mScanning /home/camille/code/capstone/data/cams_full/train/labels... 866 images, 0 backgrounds, 0 corrupt: 100%|██████████| 866/866 [00:00<00:00, 1243.50it/s]\n",
            "\u001b[34m\u001b[1mtrain: \u001b[0mNew cache created: /home/camille/code/capstone/data/cams_full/train/labels.cache\n",
            "\u001b[34m\u001b[1malbumentations: \u001b[0mBlur(p=0.01, blur_limit=(3, 7)), MedianBlur(p=0.01, blur_limit=(3, 7)), ToGray(p=0.01), CLAHE(p=0.01, clip_limit=(1, 4.0), tile_grid_size=(8, 8))\n",
            "\u001b[34m\u001b[1mval: \u001b[0mScanning /home/camille/code/capstone/data/cams_full/valid/labels... 226 images, 0 backgrounds, 0 corrupt: 100%|██████████| 226/226 [00:01<00:00, 205.95it/s]\n",
            "\u001b[34m\u001b[1mval: \u001b[0mNew cache created: /home/camille/code/capstone/data/cams_full/valid/labels.cache\n",
            "Plotting labels to runs/detect/yolo_full_train/labels.jpg... \n",
            "\u001b[34m\u001b[1moptimizer:\u001b[0m 'optimizer=auto' found, ignoring 'lr0=0.01' and 'momentum=0.937' and determining best 'optimizer', 'lr0' and 'momentum' automatically... \n",
            "\u001b[34m\u001b[1moptimizer:\u001b[0m AdamW(lr=0.002, momentum=0.9) with parameter groups 57 weight(decay=0.0), 64 weight(decay=0.000578125), 63 bias(decay=0.0)\n",
            "Image sizes 640 train, 640 val\n",
            "Using 8 dataloader workers\n",
            "Logging results to \u001b[1mruns/detect/yolo_full_train\u001b[0m\n",
            "Starting training for 5 epochs...\n",
            "\n",
            "      Epoch    GPU_mem   box_loss   cls_loss   dfl_loss  Instances       Size\n",
            "        1/5       2.3G        nan        nan        nan         92        640:  17%|█▋        | 4/24 [00:14<01:12,  3.61s/it]"
          ]
        }
      ],
      "source": [
        "# model_with_wb('yolo_full', yolo, dataset_full, epochs = 5, batch = 16, freeze = 20, save = False, amp = False)\n",
        "# model_with_wb('yolo_tile', yolo, dataset_tile, epochs = 5)\n",
        "for key, val in params.items():\n",
        "    model_with_wb(key, val['model'], val['dataset'], epochs = 5, batch = 16, freeze = 20, save = True, amp = False)"
      ]
    },
    {
      "cell_type": "code",
      "execution_count": null,
      "metadata": {
        "id": "RRRhGs57nGAh"
      },
      "outputs": [],
      "source": [
        "mod_yolo = YOLO('yolov8s.pt')\n",
        "mod_detr = RTDETR('rtdetr-l.pt')\n",
        "data_path = f'{dataset.location}/data.yaml'\n",
        "\n",
        "with wandb.init(project = 'capstone', name = 'yolo_unsliced') as yolo_run:\n",
        "    mod_yolo.train(data = data_path,\n",
        "                   imgsz = 640,\n",
        "                   patience = 10,\n",
        "                   epochs = 5,\n",
        "                   exist_ok = True,\n",
        "                   name = 'yolo8s_train')\n"
      ]
    },
    {
      "cell_type": "code",
      "execution_count": null,
      "metadata": {
        "id": "PJ3qOrydCjNZ"
      },
      "outputs": [],
      "source": [
        "with wandb.init(project = 'capstone', name = 'detr_unsliced') as detr_run:\n",
        "    mod_detr.train(data = data_path,\n",
        "                   imgsz = 640,\n",
        "                   patience = 10,\n",
        "                   epochs = 5,\n",
        "                   exist_ok = True,\n",
        "                   name = 'detr_train')"
      ]
    },
    {
      "cell_type": "code",
      "execution_count": null,
      "metadata": {
        "id": "woLateX3lV3n"
      },
      "outputs": [],
      "source": []
    },
    {
      "cell_type": "code",
      "execution_count": null,
      "metadata": {
        "id": "vl6kvbGN0R4X"
      },
      "outputs": [],
      "source": []
    },
    {
      "cell_type": "code",
      "execution_count": null,
      "metadata": {
        "id": "MqjPfkuy0Ri3"
      },
      "outputs": [],
      "source": [
        "wandb.finish()"
      ]
    }
  ],
  "metadata": {
    "accelerator": "GPU",
    "colab": {
      "provenance": []
    },
    "kernelspec": {
      "display_name": "Python 3",
      "name": "python3"
    },
    "language_info": {
      "codemirror_mode": {
        "name": "ipython",
        "version": 3
      },
      "file_extension": ".py",
      "mimetype": "text/x-python",
      "name": "python",
      "nbconvert_exporter": "python",
      "pygments_lexer": "ipython3",
      "version": "3.11.5"
    },
    "widgets": {
      "application/vnd.jupyter.widget-state+json": {
        "1ef730725e5b43b3ac7e32702b4da013": {
          "model_module": "@jupyter-widgets/controls",
          "model_module_version": "1.5.0",
          "model_name": "LabelModel",
          "state": {
            "_dom_classes": [],
            "_model_module": "@jupyter-widgets/controls",
            "_model_module_version": "1.5.0",
            "_model_name": "LabelModel",
            "_view_count": null,
            "_view_module": "@jupyter-widgets/controls",
            "_view_module_version": "1.5.0",
            "_view_name": "LabelView",
            "description": "",
            "description_tooltip": null,
            "layout": "IPY_MODEL_70db618ea1bd4e53a6ff070c2c166b9e",
            "placeholder": "​",
            "style": "IPY_MODEL_ca8854a4ca3e477bb338ee2ada0e116b",
            "value": "0.018 MB of 0.018 MB uploaded\r"
          }
        },
        "2195585d849a461a8170e4afc6c02ad4": {
          "model_module": "@jupyter-widgets/base",
          "model_module_version": "1.2.0",
          "model_name": "LayoutModel",
          "state": {
            "_model_module": "@jupyter-widgets/base",
            "_model_module_version": "1.2.0",
            "_model_name": "LayoutModel",
            "_view_count": null,
            "_view_module": "@jupyter-widgets/base",
            "_view_module_version": "1.2.0",
            "_view_name": "LayoutView",
            "align_content": null,
            "align_items": null,
            "align_self": null,
            "border": null,
            "bottom": null,
            "display": null,
            "flex": null,
            "flex_flow": null,
            "grid_area": null,
            "grid_auto_columns": null,
            "grid_auto_flow": null,
            "grid_auto_rows": null,
            "grid_column": null,
            "grid_gap": null,
            "grid_row": null,
            "grid_template_areas": null,
            "grid_template_columns": null,
            "grid_template_rows": null,
            "height": null,
            "justify_content": null,
            "justify_items": null,
            "left": null,
            "margin": null,
            "max_height": null,
            "max_width": null,
            "min_height": null,
            "min_width": null,
            "object_fit": null,
            "object_position": null,
            "order": null,
            "overflow": null,
            "overflow_x": null,
            "overflow_y": null,
            "padding": null,
            "right": null,
            "top": null,
            "visibility": null,
            "width": null
          }
        },
        "39900a39418a483ba47d47c402d1e541": {
          "model_module": "@jupyter-widgets/base",
          "model_module_version": "1.2.0",
          "model_name": "LayoutModel",
          "state": {
            "_model_module": "@jupyter-widgets/base",
            "_model_module_version": "1.2.0",
            "_model_name": "LayoutModel",
            "_view_count": null,
            "_view_module": "@jupyter-widgets/base",
            "_view_module_version": "1.2.0",
            "_view_name": "LayoutView",
            "align_content": null,
            "align_items": null,
            "align_self": null,
            "border": null,
            "bottom": null,
            "display": null,
            "flex": null,
            "flex_flow": null,
            "grid_area": null,
            "grid_auto_columns": null,
            "grid_auto_flow": null,
            "grid_auto_rows": null,
            "grid_column": null,
            "grid_gap": null,
            "grid_row": null,
            "grid_template_areas": null,
            "grid_template_columns": null,
            "grid_template_rows": null,
            "height": null,
            "justify_content": null,
            "justify_items": null,
            "left": null,
            "margin": null,
            "max_height": null,
            "max_width": null,
            "min_height": null,
            "min_width": null,
            "object_fit": null,
            "object_position": null,
            "order": null,
            "overflow": null,
            "overflow_x": null,
            "overflow_y": null,
            "padding": null,
            "right": null,
            "top": null,
            "visibility": null,
            "width": null
          }
        },
        "6071e5c156eb40e9bb89ae8a070ca653": {
          "model_module": "@jupyter-widgets/controls",
          "model_module_version": "1.5.0",
          "model_name": "VBoxModel",
          "state": {
            "_dom_classes": [],
            "_model_module": "@jupyter-widgets/controls",
            "_model_module_version": "1.5.0",
            "_model_name": "VBoxModel",
            "_view_count": null,
            "_view_module": "@jupyter-widgets/controls",
            "_view_module_version": "1.5.0",
            "_view_name": "VBoxView",
            "box_style": "",
            "children": [
              "IPY_MODEL_1ef730725e5b43b3ac7e32702b4da013",
              "IPY_MODEL_aa490d7b05c34d93970a10b1215ebed2"
            ],
            "layout": "IPY_MODEL_2195585d849a461a8170e4afc6c02ad4"
          }
        },
        "70db618ea1bd4e53a6ff070c2c166b9e": {
          "model_module": "@jupyter-widgets/base",
          "model_module_version": "1.2.0",
          "model_name": "LayoutModel",
          "state": {
            "_model_module": "@jupyter-widgets/base",
            "_model_module_version": "1.2.0",
            "_model_name": "LayoutModel",
            "_view_count": null,
            "_view_module": "@jupyter-widgets/base",
            "_view_module_version": "1.2.0",
            "_view_name": "LayoutView",
            "align_content": null,
            "align_items": null,
            "align_self": null,
            "border": null,
            "bottom": null,
            "display": null,
            "flex": null,
            "flex_flow": null,
            "grid_area": null,
            "grid_auto_columns": null,
            "grid_auto_flow": null,
            "grid_auto_rows": null,
            "grid_column": null,
            "grid_gap": null,
            "grid_row": null,
            "grid_template_areas": null,
            "grid_template_columns": null,
            "grid_template_rows": null,
            "height": null,
            "justify_content": null,
            "justify_items": null,
            "left": null,
            "margin": null,
            "max_height": null,
            "max_width": null,
            "min_height": null,
            "min_width": null,
            "object_fit": null,
            "object_position": null,
            "order": null,
            "overflow": null,
            "overflow_x": null,
            "overflow_y": null,
            "padding": null,
            "right": null,
            "top": null,
            "visibility": null,
            "width": null
          }
        },
        "aa490d7b05c34d93970a10b1215ebed2": {
          "model_module": "@jupyter-widgets/controls",
          "model_module_version": "1.5.0",
          "model_name": "FloatProgressModel",
          "state": {
            "_dom_classes": [],
            "_model_module": "@jupyter-widgets/controls",
            "_model_module_version": "1.5.0",
            "_model_name": "FloatProgressModel",
            "_view_count": null,
            "_view_module": "@jupyter-widgets/controls",
            "_view_module_version": "1.5.0",
            "_view_name": "ProgressView",
            "bar_style": "",
            "description": "",
            "description_tooltip": null,
            "layout": "IPY_MODEL_39900a39418a483ba47d47c402d1e541",
            "max": 1,
            "min": 0,
            "orientation": "horizontal",
            "style": "IPY_MODEL_cc38530b46df4ecd9e03bf4f9902a2f5",
            "value": 1
          }
        },
        "ca8854a4ca3e477bb338ee2ada0e116b": {
          "model_module": "@jupyter-widgets/controls",
          "model_module_version": "1.5.0",
          "model_name": "DescriptionStyleModel",
          "state": {
            "_model_module": "@jupyter-widgets/controls",
            "_model_module_version": "1.5.0",
            "_model_name": "DescriptionStyleModel",
            "_view_count": null,
            "_view_module": "@jupyter-widgets/base",
            "_view_module_version": "1.2.0",
            "_view_name": "StyleView",
            "description_width": ""
          }
        },
        "cc38530b46df4ecd9e03bf4f9902a2f5": {
          "model_module": "@jupyter-widgets/controls",
          "model_module_version": "1.5.0",
          "model_name": "ProgressStyleModel",
          "state": {
            "_model_module": "@jupyter-widgets/controls",
            "_model_module_version": "1.5.0",
            "_model_name": "ProgressStyleModel",
            "_view_count": null,
            "_view_module": "@jupyter-widgets/base",
            "_view_module_version": "1.2.0",
            "_view_name": "StyleView",
            "bar_color": null,
            "description_width": ""
          }
        }
      }
    }
  },
  "nbformat": 4,
  "nbformat_minor": 0
}
