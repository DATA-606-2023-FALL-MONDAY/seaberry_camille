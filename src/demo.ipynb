{
 "cells": [
  {
   "cell_type": "code",
   "execution_count": 116,
   "metadata": {},
   "outputs": [],
   "source": [
    "from ultralytics import YOLO, RTDETR\n",
    "from pathlib import Path \n",
    "import cv2\n",
    "from settings import ROOT_DIR\n",
    "import torch\n",
    "from dotenv import load_dotenv\n",
    "import os\n",
    "import requests\n",
    "import urllib\n",
    "from io import BytesIO\n",
    "from PIL import Image, ImageDraw\n",
    "import matplotlib.pyplot as plt\n",
    "import numpy as np\n",
    "import ipywidgets as widgets\n",
    "\n",
    "%matplotlib inline\n",
    "\n",
    "PROJECT_DIR = Path(ROOT_DIR)\n",
    "os.chdir(PROJECT_DIR)\n",
    "_ = load_dotenv()"
   ]
  },
  {
   "cell_type": "code",
   "execution_count": 2,
   "metadata": {},
   "outputs": [],
   "source": [
    "# model_name = 'yolo_tile_best'\n",
    "# model_path = PROJECT_DIR / 'best_wts' / f'{model_name}.torchscript'\n",
    "# model = torch.jit.load(model_path)\n",
    "yolo = YOLO('./best_wts/yolo_tile_best.pt')\n",
    "detr = RTDETR('./best_wts/detr_full_frz_best.pt')\n"
   ]
  },
  {
   "cell_type": "code",
   "execution_count": 110,
   "metadata": {},
   "outputs": [],
   "source": [
    "DEFAULTS = {\n",
    "    'size': 640,\n",
    "    'heading': 140,\n",
    "    'pitch': 10,\n",
    "    'fov': 50\n",
    "}"
   ]
  },
  {
   "cell_type": "code",
   "execution_count": 114,
   "metadata": {},
   "outputs": [],
   "source": [
    "def get_sv_img(\n",
    "    location: str,  \n",
    "    key_name: str = 'GOOGLE_KEY',\n",
    "    size: int = DEFAULTS['size'],\n",
    "    heading: int = DEFAULTS['heading'],\n",
    "    pitch: int = DEFAULTS['pitch'],\n",
    "    fov: int = DEFAULTS['fov']\n",
    ") -> Image:\n",
    "    img_params = {\n",
    "        'location': location,\n",
    "        'size': f'{size}x{size}',\n",
    "        'heading': heading,\n",
    "        'pitch': pitch,\n",
    "        'fov': fov,\n",
    "        'key': os.getenv(key_name)\n",
    "    }\n",
    "    r = requests.get('https://maps.googleapis.com/maps/api/streetview', params = urllib.parse.urlencode(img_params))\n",
    "    img = Image.open(BytesIO(r.content))\n",
    "    return img\n",
    "\n",
    "def show_img(img, title = None, conv = None) -> None:\n",
    "    if conv is not None:\n",
    "        img = cv2.cvtColor(img, conv)\n",
    "    fig = plt.imshow(img)\n",
    "    if title is not None:\n",
    "        fig.title(title)\n",
    "    fig.tight_layout()\n",
    "    fig.axis('off')\n",
    "    # plt.show()\n",
    "    return fig\n",
    "    \n",
    "def label_img(img, model) -> Image:\n",
    "    pred = model.predict(img, device = 'cpu')[0].plot(labels = False)\n",
    "    pred = cv2.cvtColor(pred, cv2.COLOR_BGR2RGB)\n",
    "    return Image.fromarray(pred)\n",
    "\n",
    "def compare_imgs(img1, img2, size = 640):\n",
    "    cvs = Image.new('RGB', (size * 2, size))\n",
    "    cvs.paste(img1, (0, 0))\n",
    "    cvs.paste(img2, (size, 0))\n",
    "    # cvs.show()\n",
    "    return cvs"
   ]
  },
  {
   "cell_type": "code",
   "execution_count": 121,
   "metadata": {},
   "outputs": [
    {
     "data": {
      "application/vnd.jupyter.widget-view+json": {
       "model_id": "b9d9e8ed5e324c308df7285940317751",
       "version_major": 2,
       "version_minor": 0
      },
      "text/plain": [
       "Text(value='33rd & Loch Raven Baltimore MD', description='Location', layout=Layout(width='600px'), style=TextS…"
      ]
     },
     "metadata": {},
     "output_type": "display_data"
    },
    {
     "data": {
      "application/vnd.jupyter.widget-view+json": {
       "model_id": "cab19279497f4ad4b70f220b4c017230",
       "version_major": 2,
       "version_minor": 0
      },
      "text/plain": [
       "IntSlider(value=640, description='Image size', layout=Layout(width='600px'), max=1024, min=100, style=SliderSt…"
      ]
     },
     "metadata": {},
     "output_type": "display_data"
    },
    {
     "data": {
      "application/vnd.jupyter.widget-view+json": {
       "model_id": "7a52f90d688c46d5a00a7261cad2abc9",
       "version_major": 2,
       "version_minor": 0
      },
      "text/plain": [
       "IntSlider(value=140, description='Heading (rotation)', layout=Layout(width='600px'), max=360, style=SliderStyl…"
      ]
     },
     "metadata": {},
     "output_type": "display_data"
    },
    {
     "data": {
      "application/vnd.jupyter.widget-view+json": {
       "model_id": "248717fcb8cb4bd388dccd03f4973b1c",
       "version_major": 2,
       "version_minor": 0
      },
      "text/plain": [
       "IntSlider(value=10, description='Pitch (tilt)', layout=Layout(width='600px'), max=40, style=SliderStyle(descri…"
      ]
     },
     "metadata": {},
     "output_type": "display_data"
    },
    {
     "data": {
      "application/vnd.jupyter.widget-view+json": {
       "model_id": "919e962aab5244febaeacba816aa1b37",
       "version_major": 2,
       "version_minor": 0
      },
      "text/plain": [
       "IntSlider(value=50, description='Field of view (zoom)', layout=Layout(width='600px'), max=120, min=10, style=S…"
      ]
     },
     "metadata": {},
     "output_type": "display_data"
    },
    {
     "data": {
      "application/vnd.jupyter.widget-view+json": {
       "model_id": "914bee8f98674a3b845be78a8712e374",
       "version_major": 2,
       "version_minor": 0
      },
      "text/plain": [
       "Button(description='Get image', style=ButtonStyle())"
      ]
     },
     "metadata": {},
     "output_type": "display_data"
    },
    {
     "data": {
      "application/vnd.jupyter.widget-view+json": {
       "model_id": "b6438a9372474a5193c0e99a5d48d505",
       "version_major": 2,
       "version_minor": 0
      },
      "text/plain": [
       "Output()"
      ]
     },
     "metadata": {},
     "output_type": "display_data"
    },
    {
     "name": "stderr",
     "output_type": "stream",
     "text": [
      "\n",
      "0: 640x640 2 surveillances, 478.0ms\n",
      "Speed: 1.5ms preprocess, 478.0ms inference, 0.2ms postprocess per image at shape (1, 3, 640, 640)\n",
      "\n",
      "0: 640x640 1 surveillance, 269.8ms\n",
      "Speed: 1.2ms preprocess, 269.8ms inference, 1.1ms postprocess per image at shape (1, 3, 640, 640)\n"
     ]
    }
   ],
   "source": [
    "output = widgets.Output()\n",
    "lbl_style = {'description_width': '200px'}\n",
    "layout = widgets.Layout(width='600px')\n",
    "location = widgets.Text(value='33rd & Loch Raven Baltimore MD',\n",
    "                        description='Location',\n",
    "                        layout=layout,\n",
    "                        style=lbl_style)\n",
    "size = widgets.IntSlider(value=DEFAULTS['size'],\n",
    "                         min=100,\n",
    "                         max=1024,\n",
    "                         layout=layout,\n",
    "                         style=lbl_style,\n",
    "                         description='Image size')\n",
    "heading = widgets.IntSlider(value=DEFAULTS['heading'],\n",
    "                            min=0,\n",
    "                            max=360,\n",
    "                            layout=layout,\n",
    "                            style=lbl_style,\n",
    "                            description='Heading (rotation)')\n",
    "pitch = widgets.IntSlider(value=DEFAULTS['pitch'],\n",
    "                          min=0,\n",
    "                          max=40,\n",
    "                          layout=layout,\n",
    "                          style=lbl_style,\n",
    "                          description='Pitch (tilt)')\n",
    "fov = widgets.IntSlider(value=DEFAULTS['fov'],\n",
    "                        min=10,\n",
    "                        max=120,\n",
    "                        layout=layout,\n",
    "                        style=lbl_style,\n",
    "                        description='Field of view (zoom)')\n",
    "\n",
    "button = widgets.Button(description='Get image')\n",
    "\n",
    "display(location, size, heading, pitch, fov, button, output)\n",
    "\n",
    "\n",
    "def button_click(b):\n",
    "    img = get_sv_img(location=location.value,\n",
    "                     size=size.value,\n",
    "                     heading=heading.value,\n",
    "                     pitch=pitch.value,\n",
    "                     fov=fov.value)\n",
    "    if img is not None:\n",
    "        detr_pred = label_img(img, detr)\n",
    "        yolo_pred = label_img(img, yolo)\n",
    "        with output:\n",
    "            output.clear_output()\n",
    "            margin = 20\n",
    "            cvs = Image.new('RGB', (size.value * 3, size.value))\n",
    "            # draw = ImageDraw.Draw(cvs)\n",
    "            # draw.text((0, 0), 'Original image')\n",
    "            # draw.text((size.value, 0), 'DETR prediction')\n",
    "            # draw.text((size.value * 2, 0), 'YOLO prediction')\n",
    "            cvs.paste(img, (0, 0))\n",
    "            cvs.paste(detr_pred, (size.value, 0))\n",
    "            cvs.paste(yolo_pred, (size.value * 2, 0))\n",
    "            print('Original image, DETR prediction, YOLO prediction')\n",
    "            display(cvs)\n",
    "            \n",
    "    return img\n",
    "\n",
    "sv_img = button.on_click(button_click)\n"
   ]
  },
  {
   "cell_type": "code",
   "execution_count": null,
   "metadata": {},
   "outputs": [],
   "source": []
  },
  {
   "cell_type": "code",
   "execution_count": null,
   "metadata": {},
   "outputs": [],
   "source": []
  }
 ],
 "metadata": {
  "kernelspec": {
   "display_name": "cap",
   "language": "python",
   "name": "python3"
  },
  "language_info": {
   "codemirror_mode": {
    "name": "ipython",
    "version": 3
   },
   "file_extension": ".py",
   "mimetype": "text/x-python",
   "name": "python",
   "nbconvert_exporter": "python",
   "pygments_lexer": "ipython3",
   "version": "3.11.5"
  }
 },
 "nbformat": 4,
 "nbformat_minor": 2
}
